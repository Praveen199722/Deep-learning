{
 "cells": [
  {
   "cell_type": "code",
   "execution_count": 47,
   "id": "3c874e74",
   "metadata": {},
   "outputs": [
    {
     "ename": "ImportError",
     "evalue": "cannot import name 'kerasClassifier' from 'keras.wrappers.scikit_learn' (C:\\Users\\prave\\Anaconda3\\envs\\aiml\\lib\\site-packages\\keras\\wrappers\\scikit_learn.py)",
     "output_type": "error",
     "traceback": [
      "\u001b[1;31m---------------------------------------------------------------------------\u001b[0m",
      "\u001b[1;31mImportError\u001b[0m                               Traceback (most recent call last)",
      "\u001b[1;32m~\\AppData\\Local\\Temp\\ipykernel_8200\\2422407604.py\u001b[0m in \u001b[0;36m<module>\u001b[1;34m\u001b[0m\n\u001b[0;32m     23\u001b[0m \u001b[0mget_ipython\u001b[0m\u001b[1;33m(\u001b[0m\u001b[1;33m)\u001b[0m\u001b[1;33m.\u001b[0m\u001b[0msystem\u001b[0m\u001b[1;33m(\u001b[0m\u001b[1;34m'pip install -q tensorflow-hub'\u001b[0m\u001b[1;33m)\u001b[0m\u001b[1;33m\u001b[0m\u001b[1;33m\u001b[0m\u001b[0m\n\u001b[0;32m     24\u001b[0m \u001b[1;32mimport\u001b[0m \u001b[0mtensorflow_hub\u001b[0m \u001b[1;32mas\u001b[0m \u001b[0mhub\u001b[0m\u001b[1;33m\u001b[0m\u001b[1;33m\u001b[0m\u001b[0m\n\u001b[1;32m---> 25\u001b[1;33m \u001b[1;32mfrom\u001b[0m \u001b[0mkeras\u001b[0m\u001b[1;33m.\u001b[0m\u001b[0mwrappers\u001b[0m\u001b[1;33m.\u001b[0m\u001b[0mscikit_learn\u001b[0m \u001b[1;32mimport\u001b[0m \u001b[0mkerasClassifier\u001b[0m\u001b[1;33m\u001b[0m\u001b[1;33m\u001b[0m\u001b[0m\n\u001b[0m",
      "\u001b[1;31mImportError\u001b[0m: cannot import name 'kerasClassifier' from 'keras.wrappers.scikit_learn' (C:\\Users\\prave\\Anaconda3\\envs\\aiml\\lib\\site-packages\\keras\\wrappers\\scikit_learn.py)"
     ]
    }
   ],
   "source": [
    "#libraries\n",
    "import numpy as np\n",
    "import pandas as pd\n",
    "\n",
    "#VISUALIZING LIBRARIES\n",
    "import matplotlib.pyplot as plt\n",
    "import pydot\n",
    "import seaborn as sns\n",
    "\n",
    "#evaluation library\n",
    "from sklearn.metrics import confusion_matrix\n",
    "from sklearn.metrics import accuracy_score \n",
    "from sklearn.model_selection import GridSearchCV\n",
    "\n",
    "#Deeo learning\n",
    "import tensorflow as tf\n",
    "from tensorflow.keras import layers\n",
    "import keras\n",
    "from keras.models import sequential\n",
    "from keras.layers.core import Dense,Activation,Dropout\n",
    "from keras.datasets import mnist\n",
    "from keras.utils.np_utils import to_categorical\n",
    "!pip install -q tensorflow-hub\n",
    "import tensorflow_hub as hub\n",
    "from keras.wrappers.scikit_learn import kerasClassifier"
   ]
  },
  {
   "cell_type": "code",
   "execution_count": 46,
   "id": "58bd485e",
   "metadata": {},
   "outputs": [
    {
     "name": "stdout",
     "output_type": "stream",
     "text": [
      "Collecting wrapper\n",
      "  Downloading Wrapper-1.1.0b1.tar.gz (4.4 kB)\n",
      "  Preparing metadata (setup.py): started\n",
      "  Preparing metadata (setup.py): finished with status 'done'\n",
      "Building wheels for collected packages: wrapper\n",
      "  Building wheel for wrapper (setup.py): started\n",
      "  Building wheel for wrapper (setup.py): finished with status 'done'\n",
      "  Created wheel for wrapper: filename=Wrapper-1.1.0b1-py3-none-any.whl size=6248 sha256=656d9aeba3bff9a17c8d51a8191a8b77372fd9dfc9e09ae325e210fde175e273\n",
      "  Stored in directory: c:\\users\\prave\\appdata\\local\\pip\\cache\\wheels\\6d\\d5\\2d\\32b0d93cc15112e9d855cfc0089f2867957eabbe52fb805c65\n",
      "Successfully built wrapper\n",
      "Installing collected packages: wrapper\n",
      "Successfully installed wrapper-1.1.0b1\n"
     ]
    }
   ],
   "source": [
    "!pip install wrapper"
   ]
  },
  {
   "cell_type": "code",
   "execution_count": null,
   "id": "7856063b",
   "metadata": {},
   "outputs": [],
   "source": []
  },
  {
   "cell_type": "markdown",
   "id": "ee271da7",
   "metadata": {},
   "source": [
    "!pip install pydot\n"
   ]
  },
  {
   "cell_type": "code",
   "execution_count": null,
   "id": "8572a137",
   "metadata": {},
   "outputs": [],
   "source": []
  },
  {
   "cell_type": "code",
   "execution_count": 38,
   "id": "f15ec884",
   "metadata": {},
   "outputs": [],
   "source": [
    "#!pip install tensorflow==2.7.0"
   ]
  },
  {
   "cell_type": "code",
   "execution_count": 39,
   "id": "d728e243",
   "metadata": {
    "scrolled": false
   },
   "outputs": [],
   "source": [
    "#pip install tensorflow"
   ]
  },
  {
   "cell_type": "markdown",
   "id": "94fd6c25",
   "metadata": {},
   "source": [
    "heading\n"
   ]
  },
  {
   "cell_type": "code",
   "execution_count": 40,
   "id": "62254356",
   "metadata": {},
   "outputs": [],
   "source": [
    "#Digit MNIST dataset\n",
    "(X_train_digit,y_train_digit), (X_test_digit,y_test_digit) = mnist.load_data()"
   ]
  },
  {
   "cell_type": "code",
   "execution_count": 41,
   "id": "88ed3ecb",
   "metadata": {},
   "outputs": [
    {
     "data": {
      "text/plain": [
       "array([[[0, 0, 0, ..., 0, 0, 0],\n",
       "        [0, 0, 0, ..., 0, 0, 0],\n",
       "        [0, 0, 0, ..., 0, 0, 0],\n",
       "        ...,\n",
       "        [0, 0, 0, ..., 0, 0, 0],\n",
       "        [0, 0, 0, ..., 0, 0, 0],\n",
       "        [0, 0, 0, ..., 0, 0, 0]],\n",
       "\n",
       "       [[0, 0, 0, ..., 0, 0, 0],\n",
       "        [0, 0, 0, ..., 0, 0, 0],\n",
       "        [0, 0, 0, ..., 0, 0, 0],\n",
       "        ...,\n",
       "        [0, 0, 0, ..., 0, 0, 0],\n",
       "        [0, 0, 0, ..., 0, 0, 0],\n",
       "        [0, 0, 0, ..., 0, 0, 0]],\n",
       "\n",
       "       [[0, 0, 0, ..., 0, 0, 0],\n",
       "        [0, 0, 0, ..., 0, 0, 0],\n",
       "        [0, 0, 0, ..., 0, 0, 0],\n",
       "        ...,\n",
       "        [0, 0, 0, ..., 0, 0, 0],\n",
       "        [0, 0, 0, ..., 0, 0, 0],\n",
       "        [0, 0, 0, ..., 0, 0, 0]],\n",
       "\n",
       "       ...,\n",
       "\n",
       "       [[0, 0, 0, ..., 0, 0, 0],\n",
       "        [0, 0, 0, ..., 0, 0, 0],\n",
       "        [0, 0, 0, ..., 0, 0, 0],\n",
       "        ...,\n",
       "        [0, 0, 0, ..., 0, 0, 0],\n",
       "        [0, 0, 0, ..., 0, 0, 0],\n",
       "        [0, 0, 0, ..., 0, 0, 0]],\n",
       "\n",
       "       [[0, 0, 0, ..., 0, 0, 0],\n",
       "        [0, 0, 0, ..., 0, 0, 0],\n",
       "        [0, 0, 0, ..., 0, 0, 0],\n",
       "        ...,\n",
       "        [0, 0, 0, ..., 0, 0, 0],\n",
       "        [0, 0, 0, ..., 0, 0, 0],\n",
       "        [0, 0, 0, ..., 0, 0, 0]],\n",
       "\n",
       "       [[0, 0, 0, ..., 0, 0, 0],\n",
       "        [0, 0, 0, ..., 0, 0, 0],\n",
       "        [0, 0, 0, ..., 0, 0, 0],\n",
       "        ...,\n",
       "        [0, 0, 0, ..., 0, 0, 0],\n",
       "        [0, 0, 0, ..., 0, 0, 0],\n",
       "        [0, 0, 0, ..., 0, 0, 0]]], dtype=uint8)"
      ]
     },
     "execution_count": 41,
     "metadata": {},
     "output_type": "execute_result"
    }
   ],
   "source": [
    "X_train_digit"
   ]
  },
  {
   "cell_type": "code",
   "execution_count": 42,
   "id": "57d68551",
   "metadata": {},
   "outputs": [
    {
     "name": "stdout",
     "output_type": "stream",
     "text": [
      "Requirement already satisfied: scikit-keras in c:\\users\\prave\\anaconda3\\envs\\aiml\\lib\\site-packages (0.2.0)\n",
      "Requirement already satisfied: tensorflow in c:\\users\\prave\\anaconda3\\envs\\aiml\\lib\\site-packages (from scikit-keras) (2.7.0)\n",
      "Requirement already satisfied: scikit-learn in c:\\users\\prave\\anaconda3\\envs\\aiml\\lib\\site-packages (from scikit-keras) (0.21.3)\n",
      "Requirement already satisfied: scipy>=0.17.0 in c:\\users\\prave\\anaconda3\\envs\\aiml\\lib\\site-packages (from scikit-learn->scikit-keras) (1.7.3)\n",
      "Requirement already satisfied: joblib>=0.11 in c:\\users\\prave\\anaconda3\\envs\\aiml\\lib\\site-packages (from scikit-learn->scikit-keras) (1.2.0)\n",
      "Requirement already satisfied: numpy>=1.11.0 in c:\\users\\prave\\anaconda3\\envs\\aiml\\lib\\site-packages (from scikit-learn->scikit-keras) (1.17.4)\n",
      "Requirement already satisfied: wrapt>=1.11.0 in c:\\users\\prave\\anaconda3\\envs\\aiml\\lib\\site-packages (from tensorflow->scikit-keras) (1.14.1)\n",
      "Requirement already satisfied: keras<2.8,>=2.7.0rc0 in c:\\users\\prave\\anaconda3\\envs\\aiml\\lib\\site-packages (from tensorflow->scikit-keras) (2.7.0)\n",
      "Requirement already satisfied: flatbuffers<3.0,>=1.12 in c:\\users\\prave\\anaconda3\\envs\\aiml\\lib\\site-packages (from tensorflow->scikit-keras) (2.0.7)\n",
      "Requirement already satisfied: opt-einsum>=2.3.2 in c:\\users\\prave\\anaconda3\\envs\\aiml\\lib\\site-packages (from tensorflow->scikit-keras) (3.3.0)\n",
      "Requirement already satisfied: protobuf>=3.9.2 in c:\\users\\prave\\anaconda3\\envs\\aiml\\lib\\site-packages (from tensorflow->scikit-keras) (3.20.3)\n",
      "Requirement already satisfied: google-pasta>=0.1.1 in c:\\users\\prave\\anaconda3\\envs\\aiml\\lib\\site-packages (from tensorflow->scikit-keras) (0.2.0)\n",
      "Requirement already satisfied: tensorflow-estimator<2.8,~=2.7.0rc0 in c:\\users\\prave\\anaconda3\\envs\\aiml\\lib\\site-packages (from tensorflow->scikit-keras) (2.7.0)\n",
      "Requirement already satisfied: termcolor>=1.1.0 in c:\\users\\prave\\anaconda3\\envs\\aiml\\lib\\site-packages (from tensorflow->scikit-keras) (2.2.0)\n",
      "Requirement already satisfied: absl-py>=0.4.0 in c:\\users\\prave\\anaconda3\\envs\\aiml\\lib\\site-packages (from tensorflow->scikit-keras) (1.3.0)\n",
      "Requirement already satisfied: wheel<1.0,>=0.32.0 in c:\\users\\prave\\anaconda3\\envs\\aiml\\lib\\site-packages (from tensorflow->scikit-keras) (0.37.1)\n",
      "Requirement already satisfied: tensorboard~=2.6 in c:\\users\\prave\\anaconda3\\envs\\aiml\\lib\\site-packages (from tensorflow->scikit-keras) (2.11.0)\n",
      "Requirement already satisfied: astunparse>=1.6.0 in c:\\users\\prave\\anaconda3\\envs\\aiml\\lib\\site-packages (from tensorflow->scikit-keras) (1.6.3)\n",
      "Requirement already satisfied: libclang>=9.0.1 in c:\\users\\prave\\anaconda3\\envs\\aiml\\lib\\site-packages (from tensorflow->scikit-keras) (15.0.6.1)\n",
      "Requirement already satisfied: gast<0.5.0,>=0.2.1 in c:\\users\\prave\\anaconda3\\envs\\aiml\\lib\\site-packages (from tensorflow->scikit-keras) (0.4.0)\n",
      "Requirement already satisfied: typing-extensions>=3.6.6 in c:\\users\\prave\\anaconda3\\envs\\aiml\\lib\\site-packages (from tensorflow->scikit-keras) (4.4.0)\n",
      "Requirement already satisfied: h5py>=2.9.0 in c:\\users\\prave\\anaconda3\\envs\\aiml\\lib\\site-packages (from tensorflow->scikit-keras) (3.7.0)\n",
      "Requirement already satisfied: six>=1.12.0 in c:\\users\\prave\\anaconda3\\envs\\aiml\\lib\\site-packages (from tensorflow->scikit-keras) (1.16.0)\n",
      "Requirement already satisfied: tensorflow-io-gcs-filesystem>=0.21.0 in c:\\users\\prave\\anaconda3\\envs\\aiml\\lib\\site-packages (from tensorflow->scikit-keras) (0.29.0)\n",
      "Requirement already satisfied: keras-preprocessing>=1.1.1 in c:\\users\\prave\\anaconda3\\envs\\aiml\\lib\\site-packages (from tensorflow->scikit-keras) (1.1.2)\n",
      "Requirement already satisfied: grpcio<2.0,>=1.24.3 in c:\\users\\prave\\anaconda3\\envs\\aiml\\lib\\site-packages (from tensorflow->scikit-keras) (1.51.1)\n",
      "Requirement already satisfied: setuptools>=41.0.0 in c:\\users\\prave\\anaconda3\\envs\\aiml\\lib\\site-packages (from tensorboard~=2.6->tensorflow->scikit-keras) (65.5.0)\n",
      "Requirement already satisfied: google-auth<3,>=1.6.3 in c:\\users\\prave\\anaconda3\\envs\\aiml\\lib\\site-packages (from tensorboard~=2.6->tensorflow->scikit-keras) (2.16.0)\n",
      "Requirement already satisfied: werkzeug>=1.0.1 in c:\\users\\prave\\anaconda3\\envs\\aiml\\lib\\site-packages (from tensorboard~=2.6->tensorflow->scikit-keras) (2.2.2)\n",
      "Requirement already satisfied: tensorboard-data-server<0.7.0,>=0.6.0 in c:\\users\\prave\\anaconda3\\envs\\aiml\\lib\\site-packages (from tensorboard~=2.6->tensorflow->scikit-keras) (0.6.1)\n",
      "Requirement already satisfied: markdown>=2.6.8 in c:\\users\\prave\\anaconda3\\envs\\aiml\\lib\\site-packages (from tensorboard~=2.6->tensorflow->scikit-keras) (3.4.1)\n",
      "Requirement already satisfied: requests<3,>=2.21.0 in c:\\users\\prave\\anaconda3\\envs\\aiml\\lib\\site-packages (from tensorboard~=2.6->tensorflow->scikit-keras) (2.28.1)\n",
      "Requirement already satisfied: google-auth-oauthlib<0.5,>=0.4.1 in c:\\users\\prave\\anaconda3\\envs\\aiml\\lib\\site-packages (from tensorboard~=2.6->tensorflow->scikit-keras) (0.4.6)\n",
      "Requirement already satisfied: tensorboard-plugin-wit>=1.6.0 in c:\\users\\prave\\anaconda3\\envs\\aiml\\lib\\site-packages (from tensorboard~=2.6->tensorflow->scikit-keras) (1.8.1)\n",
      "Requirement already satisfied: rsa<5,>=3.1.4 in c:\\users\\prave\\anaconda3\\envs\\aiml\\lib\\site-packages (from google-auth<3,>=1.6.3->tensorboard~=2.6->tensorflow->scikit-keras) (4.9)\n",
      "Requirement already satisfied: cachetools<6.0,>=2.0.0 in c:\\users\\prave\\anaconda3\\envs\\aiml\\lib\\site-packages (from google-auth<3,>=1.6.3->tensorboard~=2.6->tensorflow->scikit-keras) (5.2.1)\n",
      "Requirement already satisfied: pyasn1-modules>=0.2.1 in c:\\users\\prave\\anaconda3\\envs\\aiml\\lib\\site-packages (from google-auth<3,>=1.6.3->tensorboard~=2.6->tensorflow->scikit-keras) (0.2.8)\n",
      "Requirement already satisfied: requests-oauthlib>=0.7.0 in c:\\users\\prave\\anaconda3\\envs\\aiml\\lib\\site-packages (from google-auth-oauthlib<0.5,>=0.4.1->tensorboard~=2.6->tensorflow->scikit-keras) (1.3.1)\n",
      "Requirement already satisfied: importlib-metadata>=4.4 in c:\\users\\prave\\anaconda3\\envs\\aiml\\lib\\site-packages (from markdown>=2.6.8->tensorboard~=2.6->tensorflow->scikit-keras) (4.11.3)\n",
      "Requirement already satisfied: charset-normalizer<3,>=2 in c:\\users\\prave\\anaconda3\\envs\\aiml\\lib\\site-packages (from requests<3,>=2.21.0->tensorboard~=2.6->tensorflow->scikit-keras) (2.0.4)\n",
      "Requirement already satisfied: idna<4,>=2.5 in c:\\users\\prave\\anaconda3\\envs\\aiml\\lib\\site-packages (from requests<3,>=2.21.0->tensorboard~=2.6->tensorflow->scikit-keras) (3.4)\n",
      "Requirement already satisfied: certifi>=2017.4.17 in c:\\users\\prave\\anaconda3\\envs\\aiml\\lib\\site-packages (from requests<3,>=2.21.0->tensorboard~=2.6->tensorflow->scikit-keras) (2022.12.7)\n",
      "Requirement already satisfied: urllib3<1.27,>=1.21.1 in c:\\users\\prave\\anaconda3\\envs\\aiml\\lib\\site-packages (from requests<3,>=2.21.0->tensorboard~=2.6->tensorflow->scikit-keras) (1.25.11)\n",
      "Requirement already satisfied: MarkupSafe>=2.1.1 in c:\\users\\prave\\anaconda3\\envs\\aiml\\lib\\site-packages (from werkzeug>=1.0.1->tensorboard~=2.6->tensorflow->scikit-keras) (2.1.1)\n",
      "Requirement already satisfied: zipp>=0.5 in c:\\users\\prave\\anaconda3\\envs\\aiml\\lib\\site-packages (from importlib-metadata>=4.4->markdown>=2.6.8->tensorboard~=2.6->tensorflow->scikit-keras) (3.8.0)\n",
      "Requirement already satisfied: pyasn1<0.5.0,>=0.4.6 in c:\\users\\prave\\anaconda3\\envs\\aiml\\lib\\site-packages (from pyasn1-modules>=0.2.1->google-auth<3,>=1.6.3->tensorboard~=2.6->tensorflow->scikit-keras) (0.4.8)\n",
      "Requirement already satisfied: oauthlib>=3.0.0 in c:\\users\\prave\\anaconda3\\envs\\aiml\\lib\\site-packages (from requests-oauthlib>=0.7.0->google-auth-oauthlib<0.5,>=0.4.1->tensorboard~=2.6->tensorflow->scikit-keras) (3.2.2)\n"
     ]
    }
   ],
   "source": [
    "!pip install scikit-keras"
   ]
  },
  {
   "cell_type": "code",
   "execution_count": 43,
   "id": "e21bb566",
   "metadata": {},
   "outputs": [
    {
     "name": "stdout",
     "output_type": "stream",
     "text": [
      "Collecting classified"
     ]
    },
    {
     "name": "stderr",
     "output_type": "stream",
     "text": [
      "  error: subprocess-exited-with-error\n",
      "  \n",
      "  python setup.py bdist_wheel did not run successfully.\n",
      "  exit code: 1\n",
      "  \n",
      "  [128 lines of output]\n",
      "  running bdist_wheel\n",
      "  running build\n",
      "  running build_py\n",
      "  creating build\n",
      "  creating build\\lib\n",
      "  creating build\\lib\\classified\n",
      "  copying classified\\checksum.py -> build\\lib\\classified\n",
      "  copying classified\\config.py -> build\\lib\\classified\n",
      "  copying classified\\incremental.py -> build\\lib\\classified\n",
      "  copying classified\\magic.py -> build\\lib\\classified\n",
      "  copying classified\\meta.py -> build\\lib\\classified\n",
      "  copying classified\\platform.py -> build\\lib\\classified\n",
      "  copying classified\\scanner.py -> build\\lib\\classified\n",
      "  copying classified\\utils.py -> build\\lib\\classified\n",
      "  copying classified\\__init__.py -> build\\lib\\classified\n",
      "  creating build\\lib\\classified\\probe\n",
      "  copying classified\\probe\\all.py -> build\\lib\\classified\\probe\n",
      "  copying classified\\probe\\base.py -> build\\lib\\classified\\probe\n",
      "  copying classified\\probe\\__init__.py -> build\\lib\\classified\\probe\n",
      "  creating build\\lib\\classified\\probe\\pan\n",
      "  copying classified\\probe\\pan\\__init__.py -> build\\lib\\classified\\probe\\pan\n",
      "  creating build\\lib\\classified\\probe\\password\n",
      "  copying classified\\probe\\password\\__init__.py -> build\\lib\\classified\\probe\\password\n",
      "  creating build\\lib\\classified\\probe\\pcap\n",
      "  copying classified\\probe\\pcap\\__init__.py -> build\\lib\\classified\\probe\\pcap\n",
      "  creating build\\lib\\classified\\probe\\ssl\n",
      "  copying classified\\probe\\ssl\\__init__.py -> build\\lib\\classified\\probe\\ssl\n",
      "  creating build\\lib\\classified\\report\n",
      "  copying classified\\report\\all.py -> build\\lib\\classified\\report\n",
      "  copying classified\\report\\base.py -> build\\lib\\classified\\report\n",
      "  copying classified\\report\\file.py -> build\\lib\\classified\\report\n",
      "  copying classified\\report\\html.py -> build\\lib\\classified\\report\n",
      "  copying classified\\report\\mail.py -> build\\lib\\classified\\report\n",
      "  copying classified\\report\\syslogger.py -> build\\lib\\classified\\report\n",
      "  copying classified\\report\\tty.py -> build\\lib\\classified\\report\n",
      "  copying classified\\report\\__init__.py -> build\\lib\\classified\\report\n",
      "  creating build\\lib\\classified\\template\n",
      "  creating build\\lib\\classified\\template\\report\n",
      "  copying classified\\template\\report\\full.eml -> build\\lib\\classified\\template\\report\n",
      "  copying classified\\template\\report\\full.html -> build\\lib\\classified\\template\\report\n",
      "  copying classified\\template\\report\\full.tty -> build\\lib\\classified\\template\\report\n",
      "  running build_scripts\n",
      "  creating build\\scripts-3.7\n",
      "  copying and adjusting bin\\classified -> build\\scripts-3.7\n",
      "  C:\\Users\\prave\\Anaconda3\\envs\\aiml\\lib\\site-packages\\setuptools\\command\\install.py:37: SetuptoolsDeprecationWarning: setup.py install is deprecated. Use build and pip and other standards-based tools.\n",
      "    setuptools.SetuptoolsDeprecationWarning,\n",
      "  installing to build\\bdist.win-amd64\\wheel\n",
      "  running install\n",
      "  running install_lib\n",
      "  creating build\\bdist.win-amd64\n",
      "  creating build\\bdist.win-amd64\\wheel\n",
      "  creating build\\bdist.win-amd64\\wheel\\classified\n",
      "  copying build\\lib\\classified\\checksum.py -> build\\bdist.win-amd64\\wheel\\.\\classified\n",
      "  copying build\\lib\\classified\\config.py -> build\\bdist.win-amd64\\wheel\\.\\classified\n",
      "  copying build\\lib\\classified\\incremental.py -> build\\bdist.win-amd64\\wheel\\.\\classified\n",
      "  copying build\\lib\\classified\\magic.py -> build\\bdist.win-amd64\\wheel\\.\\classified\n",
      "  copying build\\lib\\classified\\meta.py -> build\\bdist.win-amd64\\wheel\\.\\classified\n",
      "  copying build\\lib\\classified\\platform.py -> build\\bdist.win-amd64\\wheel\\.\\classified\n",
      "  creating build\\bdist.win-amd64\\wheel\\classified\\probe\n",
      "  copying build\\lib\\classified\\probe\\all.py -> build\\bdist.win-amd64\\wheel\\.\\classified\\probe\n",
      "  copying build\\lib\\classified\\probe\\base.py -> build\\bdist.win-amd64\\wheel\\.\\classified\\probe\n",
      "  creating build\\bdist.win-amd64\\wheel\\classified\\probe\\pan\n",
      "  copying build\\lib\\classified\\probe\\pan\\__init__.py -> build\\bdist.win-amd64\\wheel\\.\\classified\\probe\\pan\n",
      "  creating build\\bdist.win-amd64\\wheel\\classified\\probe\\password\n",
      "  copying build\\lib\\classified\\probe\\password\\__init__.py -> build\\bdist.win-amd64\\wheel\\.\\classified\\probe\\password\n",
      "  creating build\\bdist.win-amd64\\wheel\\classified\\probe\\pcap\n",
      "  copying build\\lib\\classified\\probe\\pcap\\__init__.py -> build\\bdist.win-amd64\\wheel\\.\\classified\\probe\\pcap\n",
      "  creating build\\bdist.win-amd64\\wheel\\classified\\probe\\ssl\n",
      "  copying build\\lib\\classified\\probe\\ssl\\__init__.py -> build\\bdist.win-amd64\\wheel\\.\\classified\\probe\\ssl\n",
      "  copying build\\lib\\classified\\probe\\__init__.py -> build\\bdist.win-amd64\\wheel\\.\\classified\\probe\n",
      "  creating build\\bdist.win-amd64\\wheel\\classified\\report\n",
      "  copying build\\lib\\classified\\report\\all.py -> build\\bdist.win-amd64\\wheel\\.\\classified\\report\n",
      "  copying build\\lib\\classified\\report\\base.py -> build\\bdist.win-amd64\\wheel\\.\\classified\\report\n",
      "  copying build\\lib\\classified\\report\\file.py -> build\\bdist.win-amd64\\wheel\\.\\classified\\report\n",
      "  copying build\\lib\\classified\\report\\html.py -> build\\bdist.win-amd64\\wheel\\.\\classified\\report\n",
      "  copying build\\lib\\classified\\report\\mail.py -> build\\bdist.win-amd64\\wheel\\.\\classified\\report\n",
      "  copying build\\lib\\classified\\report\\syslogger.py -> build\\bdist.win-amd64\\wheel\\.\\classified\\report\n",
      "  copying build\\lib\\classified\\report\\tty.py -> build\\bdist.win-amd64\\wheel\\.\\classified\\report\n",
      "  copying build\\lib\\classified\\report\\__init__.py -> build\\bdist.win-amd64\\wheel\\.\\classified\\report\n",
      "  copying build\\lib\\classified\\scanner.py -> build\\bdist.win-amd64\\wheel\\.\\classified\n",
      "  creating build\\bdist.win-amd64\\wheel\\classified\\template\n",
      "  creating build\\bdist.win-amd64\\wheel\\classified\\template\\report\n",
      "  copying build\\lib\\classified\\template\\report\\full.eml -> build\\bdist.win-amd64\\wheel\\.\\classified\\template\\report\n",
      "  copying build\\lib\\classified\\template\\report\\full.html -> build\\bdist.win-amd64\\wheel\\.\\classified\\template\\report\n",
      "  copying build\\lib\\classified\\template\\report\\full.tty -> build\\bdist.win-amd64\\wheel\\.\\classified\\template\\report\n",
      "  copying build\\lib\\classified\\utils.py -> build\\bdist.win-amd64\\wheel\\.\\classified\n",
      "  copying build\\lib\\classified\\__init__.py -> build\\bdist.win-amd64\\wheel\\.\\classified\n",
      "  running install_data\n",
      "  creating build\\bdist.win-amd64\\wheel\\classified-1.4.0.data\n",
      "  creating build\\bdist.win-amd64\\wheel\\classified-1.4.0.data\\data\n",
      "  Traceback (most recent call last):\n",
      "    File \"<string>\", line 36, in <module>\n",
      "    File \"<pip-setuptools-caller>\", line 34, in <module>\n",
      "    File \"C:\\Users\\prave\\AppData\\Local\\Temp\\pip-install-jsst0tfo\\classified_5e9a1237c1d8495a812c755a209ac41d\\setup.py\", line 27, in <module>\n",
      "      scripts      = ['bin/classified'],\n",
      "    File \"C:\\Users\\prave\\Anaconda3\\envs\\aiml\\lib\\site-packages\\setuptools\\_distutils\\core.py\", line 185, in setup\n",
      "      return run_commands(dist)\n",
      "    File \"C:\\Users\\prave\\Anaconda3\\envs\\aiml\\lib\\site-packages\\setuptools\\_distutils\\core.py\", line 201, in run_commands\n",
      "      dist.run_commands()\n",
      "    File \"C:\\Users\\prave\\Anaconda3\\envs\\aiml\\lib\\site-packages\\setuptools\\_distutils\\dist.py\", line 968, in run_commands\n",
      "      self.run_command(cmd)\n",
      "    File \"C:\\Users\\prave\\Anaconda3\\envs\\aiml\\lib\\site-packages\\setuptools\\dist.py\", line 1217, in run_command\n",
      "      super().run_command(command)\n",
      "    File \"C:\\Users\\prave\\Anaconda3\\envs\\aiml\\lib\\site-packages\\setuptools\\_distutils\\dist.py\", line 987, in run_command\n",
      "      cmd_obj.run()\n",
      "    File \"C:\\Users\\prave\\Anaconda3\\envs\\aiml\\lib\\site-packages\\wheel\\bdist_wheel.py\", line 335, in run\n",
      "      self.run_command('install')\n",
      "    File \"C:\\Users\\prave\\Anaconda3\\envs\\aiml\\lib\\site-packages\\setuptools\\_distutils\\cmd.py\", line 319, in run_command\n",
      "      self.distribution.run_command(command)\n",
      "    File \"C:\\Users\\prave\\Anaconda3\\envs\\aiml\\lib\\site-packages\\setuptools\\dist.py\", line 1217, in run_command\n",
      "      super().run_command(command)\n",
      "    File \"C:\\Users\\prave\\Anaconda3\\envs\\aiml\\lib\\site-packages\\setuptools\\_distutils\\dist.py\", line 987, in run_command\n",
      "      cmd_obj.run()\n",
      "    File \"C:\\Users\\prave\\Anaconda3\\envs\\aiml\\lib\\site-packages\\setuptools\\command\\install.py\", line 68, in run\n",
      "      return orig.install.run(self)\n",
      "    File \"C:\\Users\\prave\\Anaconda3\\envs\\aiml\\lib\\site-packages\\setuptools\\_distutils\\command\\install.py\", line 709, in run\n",
      "      self.run_command(cmd_name)\n",
      "    File \"C:\\Users\\prave\\Anaconda3\\envs\\aiml\\lib\\site-packages\\setuptools\\_distutils\\cmd.py\", line 319, in run_command\n",
      "      self.distribution.run_command(command)\n",
      "    File \"C:\\Users\\prave\\Anaconda3\\envs\\aiml\\lib\\site-packages\\setuptools\\dist.py\", line 1217, in run_command\n",
      "      super().run_command(command)\n",
      "    File \"C:\\Users\\prave\\Anaconda3\\envs\\aiml\\lib\\site-packages\\setuptools\\_distutils\\dist.py\", line 987, in run_command\n",
      "      cmd_obj.run()\n",
      "    File \"C:\\Users\\prave\\Anaconda3\\envs\\aiml\\lib\\site-packages\\setuptools\\_distutils\\command\\install_data.py\", line 61, in run\n",
      "      dir = convert_path(f[0])\n",
      "    File \"C:\\Users\\prave\\Anaconda3\\envs\\aiml\\lib\\site-packages\\setuptools\\_distutils\\util.py\", line 139, in convert_path\n",
      "      raise ValueError(\"path '%s' cannot be absolute\" % pathname)\n",
      "  ValueError: path '/etc/classified' cannot be absolute\n",
      "  [end of output]\n",
      "  \n",
      "  note: This error originates from a subprocess, and is likely not a problem with pip.\n",
      "  ERROR: Failed building wheel for classified\n",
      "  error: subprocess-exited-with-error\n",
      "  \n",
      "  Running setup.py install for classified did not run successfully.\n",
      "  exit code: 1\n",
      "  \n",
      "  [78 lines of output]\n",
      "  running install\n",
      "  C:\\Users\\prave\\Anaconda3\\envs\\aiml\\lib\\site-packages\\setuptools\\command\\install.py:37: SetuptoolsDeprecationWarning: setup.py install is deprecated. Use build and pip and other standards-based tools.\n",
      "    setuptools.SetuptoolsDeprecationWarning,\n",
      "  running build\n",
      "  running build_py\n",
      "  creating build\n",
      "  creating build\\lib\n",
      "  creating build\\lib\\classified\n",
      "  copying classified\\checksum.py -> build\\lib\\classified\n",
      "  copying classified\\config.py -> build\\lib\\classified\n",
      "  copying classified\\incremental.py -> build\\lib\\classified\n",
      "  copying classified\\magic.py -> build\\lib\\classified\n",
      "  copying classified\\meta.py -> build\\lib\\classified\n",
      "  copying classified\\platform.py -> build\\lib\\classified\n",
      "  copying classified\\scanner.py -> build\\lib\\classified\n",
      "  copying classified\\utils.py -> build\\lib\\classified\n",
      "  copying classified\\__init__.py -> build\\lib\\classified\n",
      "  creating build\\lib\\classified\\probe\n",
      "  copying classified\\probe\\all.py -> build\\lib\\classified\\probe\n",
      "  copying classified\\probe\\base.py -> build\\lib\\classified\\probe\n",
      "  copying classified\\probe\\__init__.py -> build\\lib\\classified\\probe\n",
      "  creating build\\lib\\classified\\probe\\pan\n",
      "  copying classified\\probe\\pan\\__init__.py -> build\\lib\\classified\\probe\\pan\n",
      "  creating build\\lib\\classified\\probe\\password\n",
      "  copying classified\\probe\\password\\__init__.py -> build\\lib\\classified\\probe\\password\n",
      "  creating build\\lib\\classified\\probe\\pcap\n",
      "  copying classified\\probe\\pcap\\__init__.py -> build\\lib\\classified\\probe\\pcap\n",
      "  creating build\\lib\\classified\\probe\\ssl\n",
      "  copying classified\\probe\\ssl\\__init__.py -> build\\lib\\classified\\probe\\ssl\n",
      "  creating build\\lib\\classified\\report\n",
      "  copying classified\\report\\all.py -> build\\lib\\classified\\report\n",
      "  copying classified\\report\\base.py -> build\\lib\\classified\\report\n",
      "  copying classified\\report\\file.py -> build\\lib\\classified\\report\n",
      "  copying classified\\report\\html.py -> build\\lib\\classified\\report\n",
      "  copying classified\\report\\mail.py -> build\\lib\\classified\\report\n",
      "  copying classified\\report\\syslogger.py -> build\\lib\\classified\\report\n",
      "  copying classified\\report\\tty.py -> build\\lib\\classified\\report\n",
      "  copying classified\\report\\__init__.py -> build\\lib\\classified\\report\n",
      "  creating build\\lib\\classified\\template\n",
      "  creating build\\lib\\classified\\template\\report\n",
      "  copying classified\\template\\report\\full.eml -> build\\lib\\classified\\template\\report\n",
      "  copying classified\\template\\report\\full.html -> build\\lib\\classified\\template\\report\n",
      "  copying classified\\template\\report\\full.tty -> build\\lib\\classified\\template\\report\n",
      "  running build_scripts\n",
      "  creating build\\scripts-3.7\n",
      "  copying and adjusting bin\\classified -> build\\scripts-3.7\n",
      "  running install_lib\n",
      "  running install_data\n",
      "  Traceback (most recent call last):\n",
      "    File \"<string>\", line 36, in <module>\n",
      "    File \"<pip-setuptools-caller>\", line 34, in <module>\n",
      "    File \"C:\\Users\\prave\\AppData\\Local\\Temp\\pip-install-jsst0tfo\\classified_5e9a1237c1d8495a812c755a209ac41d\\setup.py\", line 27, in <module>\n",
      "      scripts      = ['bin/classified'],\n",
      "    File \"C:\\Users\\prave\\Anaconda3\\envs\\aiml\\lib\\site-packages\\setuptools\\_distutils\\core.py\", line 185, in setup\n",
      "      return run_commands(dist)\n",
      "    File \"C:\\Users\\prave\\Anaconda3\\envs\\aiml\\lib\\site-packages\\setuptools\\_distutils\\core.py\", line 201, in run_commands\n",
      "      dist.run_commands()\n",
      "    File \"C:\\Users\\prave\\Anaconda3\\envs\\aiml\\lib\\site-packages\\setuptools\\_distutils\\dist.py\", line 968, in run_commands\n",
      "      self.run_command(cmd)\n",
      "    File \"C:\\Users\\prave\\Anaconda3\\envs\\aiml\\lib\\site-packages\\setuptools\\dist.py\", line 1217, in run_command\n",
      "      super().run_command(command)\n",
      "    File \"C:\\Users\\prave\\Anaconda3\\envs\\aiml\\lib\\site-packages\\setuptools\\_distutils\\dist.py\", line 987, in run_command\n",
      "      cmd_obj.run()\n",
      "    File \"C:\\Users\\prave\\Anaconda3\\envs\\aiml\\lib\\site-packages\\setuptools\\command\\install.py\", line 68, in run\n",
      "      return orig.install.run(self)\n",
      "    File \"C:\\Users\\prave\\Anaconda3\\envs\\aiml\\lib\\site-packages\\setuptools\\_distutils\\command\\install.py\", line 709, in run\n",
      "      self.run_command(cmd_name)\n",
      "    File \"C:\\Users\\prave\\Anaconda3\\envs\\aiml\\lib\\site-packages\\setuptools\\_distutils\\cmd.py\", line 319, in run_command\n",
      "      self.distribution.run_command(command)\n",
      "    File \"C:\\Users\\prave\\Anaconda3\\envs\\aiml\\lib\\site-packages\\setuptools\\dist.py\", line 1217, in run_command\n",
      "      super().run_command(command)\n",
      "    File \"C:\\Users\\prave\\Anaconda3\\envs\\aiml\\lib\\site-packages\\setuptools\\_distutils\\dist.py\", line 987, in run_command\n",
      "      cmd_obj.run()\n",
      "    File \"C:\\Users\\prave\\Anaconda3\\envs\\aiml\\lib\\site-packages\\setuptools\\_distutils\\command\\install_data.py\", line 61, in run\n",
      "      dir = convert_path(f[0])\n",
      "    File \"C:\\Users\\prave\\Anaconda3\\envs\\aiml\\lib\\site-packages\\setuptools\\_distutils\\util.py\", line 139, in convert_path\n",
      "      raise ValueError(\"path '%s' cannot be absolute\" % pathname)\n",
      "  ValueError: path '/etc/classified' cannot be absolute\n",
      "  [end of output]\n",
      "  \n",
      "  note: This error originates from a subprocess, and is likely not a problem with pip.\n",
      "error: legacy-install-failure\n",
      "\n",
      "Encountered error while trying to install package.\n",
      "\n",
      "classified\n",
      "\n",
      "note: This is an issue with the package mentioned above, not pip.\n",
      "hint: See above for output from the failure.\n"
     ]
    },
    {
     "name": "stdout",
     "output_type": "stream",
     "text": [
      "\n",
      "  Using cached classified-1.4.0.tar.gz (42 kB)\n",
      "  Preparing metadata (setup.py): started\n",
      "  Preparing metadata (setup.py): finished with status 'done'\n",
      "Building wheels for collected packages: classified\n",
      "  Building wheel for classified (setup.py): started\n",
      "  Building wheel for classified (setup.py): finished with status 'error'\n",
      "  Running setup.py clean for classified\n",
      "Failed to build classified\n",
      "Installing collected packages: classified\n",
      "  Running setup.py install for classified: started\n",
      "  Running setup.py install for classified: finished with status 'error'\n"
     ]
    }
   ],
   "source": [
    "!pip install classified"
   ]
  },
  {
   "cell_type": "code",
   "execution_count": 50,
   "id": "19d311bc",
   "metadata": {},
   "outputs": [
    {
     "data": {
      "text/plain": [
       "array([5, 0, 4, ..., 5, 6, 8], dtype=uint8)"
      ]
     },
     "execution_count": 50,
     "metadata": {},
     "output_type": "execute_result"
    }
   ],
   "source": [
    "y_train_digit"
   ]
  },
  {
   "cell_type": "code",
   "execution_count": 49,
   "id": "d9d450d3",
   "metadata": {},
   "outputs": [
    {
     "data": {
      "image/png": "[encoded data removed]",
      "text/plain": [
       "<Figure size 1000x1000 with 15 Axes>"
      ]
     },
     "metadata": {},
     "output_type": "display_data"
    }
   ],
   "source": [
    "col_names = ['Zero','one','Two','Three','Four','Five','Six','Seven','Eight','Nine']\n",
    "\n",
    "#visualizing the digits\n",
    "plt.figure(figsize=(10,10))\n",
    "for i in range(15):\n",
    "    plt.subplot(5,5,i+1)\n",
    "    plt.xticks([])\n",
    "    plt.yticks([])\n",
    "    plt.imshow(X_train_digit[i], cmap='gray')\n",
    "    plt.xlabel(col_names[y_train_digit[i]])\n",
    "plt.show()"
   ]
  },
  {
   "cell_type": "code",
   "execution_count": 51,
   "id": "192f9d8e",
   "metadata": {},
   "outputs": [
    {
     "data": {
      "text/plain": [
       "(60000, 28, 28)"
      ]
     },
     "execution_count": 51,
     "metadata": {},
     "output_type": "execute_result"
    }
   ],
   "source": [
    "X_train_digit.shape\n"
   ]
  },
  {
   "cell_type": "code",
   "execution_count": 52,
   "id": "80b882c0",
   "metadata": {},
   "outputs": [],
   "source": [
    "X_train_digit = X_train_digit.reshape(60000, 784)\n",
    "X_test_digit =X_test_digit.reshape(10000, 784)"
   ]
  },
  {
   "cell_type": "code",
   "execution_count": 53,
   "id": "5425388c",
   "metadata": {},
   "outputs": [
    {
     "data": {
      "text/plain": [
       "(60000, 784)"
      ]
     },
     "execution_count": 53,
     "metadata": {},
     "output_type": "execute_result"
    }
   ],
   "source": [
    "X_train_digit.shape"
   ]
  },
  {
   "cell_type": "code",
   "execution_count": 55,
   "id": "c891212b",
   "metadata": {},
   "outputs": [
    {
     "data": {
      "text/plain": [
       "(10000,)"
      ]
     },
     "execution_count": 55,
     "metadata": {},
     "output_type": "execute_result"
    }
   ],
   "source": [
    "y_test_digit.shape"
   ]
  },
  {
   "cell_type": "code",
   "execution_count": 56,
   "id": "8356333f",
   "metadata": {},
   "outputs": [],
   "source": [
    "#encoding digit mnist labels\n",
    "y_train_digit = to_categorical(y_train_digit, num_classes=10)\n",
    "\n",
    "y_test_digit = to_categorical(y_test_digit,num_classes=10)"
   ]
  },
  {
   "cell_type": "code",
   "execution_count": 61,
   "id": "745012ed",
   "metadata": {},
   "outputs": [
    {
     "data": {
      "text/plain": [
       "array([1., 0., 0., 0., 0., 0., 0., 0., 0., 0.], dtype=float32)"
      ]
     },
     "execution_count": 61,
     "metadata": {},
     "output_type": "execute_result"
    }
   ],
   "source": [
    "y_train_digit[1]"
   ]
  },
  {
   "cell_type": "code",
   "execution_count": 68,
   "id": "4b12ffea",
   "metadata": {},
   "outputs": [],
   "source": [
    "#creating base neural network\n",
    "model = keras.Sequential([\n",
    "    layers.Dense(256, activation='relu', input_shape=(784,)),\n",
    "    #layers.Dropout(0.3)\n",
    "    #layers.BatchNormalization(),\n",
    "    layers.Dense(64, activation='relu'),\n",
    "    #layers.Dropout(0.3)\n",
    "    #layers.BatchNormalization(),\n",
    "    layers.Dense(64, activation='relu'),\n",
    "    #layers.Dropout(0.3)\n",
    "    #layers.BatchNormalization(),\n",
    "    layers.Dense(10,activation='sigmoid'),\n",
    "])"
   ]
  },
  {
   "cell_type": "code",
   "execution_count": 69,
   "id": "576ae96a",
   "metadata": {},
   "outputs": [
    {
     "name": "stdout",
     "output_type": "stream",
     "text": [
      "Model: \"sequential\"\n",
      "_________________________________________________________________\n",
      " Layer (type)                Output Shape              Param #   \n",
      "=================================================================\n",
      " dense (Dense)               (None, 256)               200960    \n",
      "                                                                 \n",
      " dense_1 (Dense)             (None, 64)                16448     \n",
      "                                                                 \n",
      " dense_2 (Dense)             (None, 64)                4160      \n",
      "                                                                 \n",
      " dense_3 (Dense)             (None, 10)                650       \n",
      "                                                                 \n",
      "=================================================================\n",
      "Total params: 222,218\n",
      "Trainable params: 222,218\n",
      "Non-trainable params: 0\n",
      "_________________________________________________________________\n"
     ]
    }
   ],
   "source": [
    "#param number = output channel number * (input channel number +1)\n",
    "model.summary()"
   ]
  },
  {
   "cell_type": "code",
   "execution_count": 71,
   "id": "95f2e717",
   "metadata": {},
   "outputs": [],
   "source": [
    "#compiling  the model\n",
    "model.compile(loss=\"categorical_crossentropy\",\n",
    "optimizer=\"adam\",\n",
    "metrics = ['accuracy'])"
   ]
  },
  {
   "cell_type": "code",
   "execution_count": 73,
   "id": "ecca3f39",
   "metadata": {},
   "outputs": [
    {
     "name": "stdout",
     "output_type": "stream",
     "text": [
      "Epoch 1/10\n",
      "600/600 [==============================] - 5s 6ms/step - loss: 1.4513 - accuracy: 0.8361 - val_loss: 0.3771 - val_accuracy: 0.9066\n",
      "Epoch 2/10\n",
      "600/600 [==============================] - 3s 6ms/step - loss: 0.2838 - accuracy: 0.9283 - val_loss: 0.2581 - val_accuracy: 0.9358\n",
      "Epoch 3/10\n",
      "600/600 [==============================] - 3s 6ms/step - loss: 0.2024 - accuracy: 0.9471 - val_loss: 0.2033 - val_accuracy: 0.9476\n",
      "Epoch 4/10\n",
      "600/600 [==============================] - 4s 6ms/step - loss: 0.1706 - accuracy: 0.9550 - val_loss: 0.2085 - val_accuracy: 0.9514\n",
      "Epoch 5/10\n",
      "600/600 [==============================] - 4s 6ms/step - loss: 0.1480 - accuracy: 0.9604 - val_loss: 0.1848 - val_accuracy: 0.9535\n",
      "Epoch 6/10\n",
      "600/600 [==============================] - 3s 6ms/step - loss: 0.1244 - accuracy: 0.9666 - val_loss: 0.1847 - val_accuracy: 0.9562\n",
      "Epoch 7/10\n",
      "600/600 [==============================] - 4s 6ms/step - loss: 0.1178 - accuracy: 0.9679 - val_loss: 0.1715 - val_accuracy: 0.9600\n",
      "Epoch 8/10\n",
      "600/600 [==============================] - 4s 6ms/step - loss: 0.1182 - accuracy: 0.9688 - val_loss: 0.1522 - val_accuracy: 0.9621\n",
      "Epoch 9/10\n",
      "600/600 [==============================] - 4s 6ms/step - loss: 0.0954 - accuracy: 0.9741 - val_loss: 0.1735 - val_accuracy: 0.9609\n",
      "Epoch 10/10\n",
      "600/600 [==============================] - 4s 6ms/step - loss: 0.0915 - accuracy: 0.9755 - val_loss: 0.1578 - val_accuracy: 0.9649\n"
     ]
    }
   ],
   "source": [
    "history=model.fit(X_train_digit, y_train_digit, batch_size=100,epochs=10,validation_data=(X_test_digit, y_test_digit))"
   ]
  },
  {
   "cell_type": "code",
   "execution_count": null,
   "id": "69650e2c",
   "metadata": {},
   "outputs": [],
   "source": []
  }
 ],
 "metadata": {
  "kernelspec": {
   "display_name": "Python 3 (ipykernel)",
   "language": "python",
   "name": "python3"
  },
  "language_info": {
   "codemirror_mode": {
    "name": "ipython",
    "version": 3
   },
   "file_extension": ".py",
   "mimetype": "text/x-python",
   "name": "python",
   "nbconvert_exporter": "python",
   "pygments_lexer": "ipython3",
   "version": "3.7.6"
  }
 },
 "nbformat": 4,
 "nbformat_minor": 5
}
